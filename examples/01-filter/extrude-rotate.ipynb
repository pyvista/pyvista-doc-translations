{
  "cells": [
    {
      "cell_type": "code",
      "execution_count": null,
      "metadata": {
        "collapsed": false
      },
      "outputs": [],
      "source": [
        "%matplotlib inline\nfrom pyvista import set_plot_theme\nset_plot_theme('document')"
      ]
    },
    {
      "cell_type": "markdown",
      "metadata": {},
      "source": [
        "\n# Extrude Rotation\nSweep polygonal data creating \"skirt\" from free edges and lines, and\nlines from vertices.\n\nThis takes polygonal data as input and generates polygonal data on\noutput. The input dataset is swept around the z-axis to create\nnew polygonal primitives. These primitives form a \"skirt\" or\nswept surface. For example, sweeping a line results in a\ncylindrical shell, and sweeping a circle creates a torus.\n\n\n"
      ]
    },
    {
      "cell_type": "code",
      "execution_count": null,
      "metadata": {
        "collapsed": false
      },
      "outputs": [],
      "source": [
        "import pyvista\n\n# create a line and rotate it about the Z-axis\nresolution = 10\nline = pyvista.Line(pointa=(0, 0, 0), pointb=(1, 0, 0), resolution=2)\npoly = line.extrude_rotate(resolution=resolution)\npoly"
      ]
    },
    {
      "cell_type": "markdown",
      "metadata": {},
      "source": [
        "# Plot the extruded line\n\n"
      ]
    },
    {
      "cell_type": "code",
      "execution_count": null,
      "metadata": {
        "collapsed": false
      },
      "outputs": [],
      "source": [
        "plotter = pyvista.Plotter(shape=(2, 1))\nplotter.subplot(0, 0)\nplotter.add_text(\"Line\", font_size=24)\nplotter.add_mesh(line, color=\"tan\", show_edges=True)\nplotter.add_mesh(\n    pyvista.PolyData(line.points),\n    color=\"red\",\n    point_size=10,\n    render_points_as_spheres=True,\n)\nplotter.subplot(1, 0)\nplotter.add_text(\"Extrude Rotated Line\", font_size=24)\nplotter.add_mesh(poly, color=\"tan\", show_edges=True)\nplotter.add_mesh(\n    pyvista.PolyData(poly.points),\n    color=\"red\",\n    point_size=10,\n    render_points_as_spheres=True,\n)\n\nplotter.show(cpos=\"xy\")"
      ]
    }
  ],
  "metadata": {
    "kernelspec": {
      "display_name": "Python 3",
      "language": "python",
      "name": "python3"
    },
    "language_info": {
      "codemirror_mode": {
        "name": "ipython",
        "version": 3
      },
      "file_extension": ".py",
      "mimetype": "text/x-python",
      "name": "python",
      "nbconvert_exporter": "python",
      "pygments_lexer": "ipython3",
      "version": "3.6.9"
    }
  },
  "nbformat": 4,
  "nbformat_minor": 0
}