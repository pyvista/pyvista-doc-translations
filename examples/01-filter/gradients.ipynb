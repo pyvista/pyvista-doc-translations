{
  "cells": [
    {
      "cell_type": "code",
      "execution_count": null,
      "metadata": {
        "collapsed": false
      },
      "outputs": [],
      "source": [
        "%matplotlib inline\nfrom pyvista import set_plot_theme\nset_plot_theme('document')"
      ]
    },
    {
      "cell_type": "markdown",
      "metadata": {},
      "source": [
        "\n# Compute Gradients of a Field\n\nEstimate the gradient of a scalar or vector field in a data set.\n\nThe ordering for the output gradient tuple will be\n{du/dx, du/dy, du/dz, dv/dx, dv/dy, dv/dz, dw/dx, dw/dy, dw/dz} for\nan input array {u, v, w}.\n\nShowing the :func:`pyvista.DataSetFilters.compute_derivative` filter.\n\n"
      ]
    },
    {
      "cell_type": "code",
      "execution_count": null,
      "metadata": {
        "collapsed": false
      },
      "outputs": [],
      "source": [
        "# sphinx_gallery_thumbnail_number = 1\nimport pyvista as pv\nfrom pyvista import examples\nimport numpy as np\n\n\n# A vtkStructuredGrid - but could be any mesh type\nmesh = examples.download_carotid()\nmesh"
      ]
    },
    {
      "cell_type": "markdown",
      "metadata": {},
      "source": [
        "Now compute the gradients of the ``vectors`` vector field in the point data\nof that mesh. This is as simple as calling\n:func:`pyvista.DataSetFilters.compute_derivative`.\n\n"
      ]
    },
    {
      "cell_type": "code",
      "execution_count": null,
      "metadata": {
        "collapsed": false
      },
      "outputs": [],
      "source": [
        "mesh_g = mesh.compute_derivative(scalars=\"vectors\")\nmesh_g[\"gradient\"]"
      ]
    },
    {
      "cell_type": "markdown",
      "metadata": {},
      "source": [
        "<div class=\"alert alert-info\"><h4>Note</h4><p>You can also use :func:`pyvista.DataSetFilters.compute_derivative` for\n  computing other derivative based quantities, such as divergence, vorticity,\n  and Q-criterion. See function documentation for options.</p></div>\n\n"
      ]
    },
    {
      "cell_type": "markdown",
      "metadata": {},
      "source": [
        "``mesh_g[\"gradient\"]`` is an ``N`` by 9 NumPy array of the gradients, so we\ncould make a dictionary of NumPy arrays of the gradients like:\n\n"
      ]
    },
    {
      "cell_type": "code",
      "execution_count": null,
      "metadata": {
        "collapsed": false
      },
      "outputs": [],
      "source": [
        "def gradients_to_dict(arr):\n    \"\"\"A helper method to label the gradients into a dictionary.\"\"\"\n    keys = np.array([\"du/dx\", \"du/dy\", \"du/dz\", \"dv/dx\", \"dv/dy\", \"dv/dz\", \"dw/dx\", \"dw/dy\", \"dw/dz\"])\n    keys = keys.reshape((3,3))[:,:arr.shape[1]].ravel()\n    return dict(zip(keys, mesh_g[\"gradient\"].T))\n\ngradients = gradients_to_dict(mesh_g[\"gradient\"])\ngradients"
      ]
    },
    {
      "cell_type": "markdown",
      "metadata": {},
      "source": [
        "And we can add all of those components as individual arrays back to the mesh\nby:\n\n"
      ]
    },
    {
      "cell_type": "code",
      "execution_count": null,
      "metadata": {
        "collapsed": false
      },
      "outputs": [],
      "source": [
        "mesh_g.point_arrays.update(gradients)\nmesh_g"
      ]
    },
    {
      "cell_type": "code",
      "execution_count": null,
      "metadata": {
        "collapsed": false
      },
      "outputs": [],
      "source": [
        "keys = np.array(list(gradients.keys())).reshape(3,3)\n\np = pv.Plotter(shape=keys.shape)\nfor i in range(keys.shape[0]):\n    for j in range(keys.shape[1]):\n        name = keys[i,j]\n        p.subplot(i,j)\n        p.add_mesh(mesh_g.contour(scalars=name), scalars=name, opacity=0.75)\n        p.add_mesh(mesh_g.outline(), color=\"k\")\np.link_views()\np.view_isometric()\np.show()"
      ]
    },
    {
      "cell_type": "markdown",
      "metadata": {},
      "source": [
        "And there you have it, the gradients for a vector field! We could also do\nthis for a scalar  field like for the ``scalars`` field in the given dataset.\n\n"
      ]
    },
    {
      "cell_type": "code",
      "execution_count": null,
      "metadata": {
        "collapsed": false
      },
      "outputs": [],
      "source": [
        "mesh_g = mesh.compute_derivative(scalars=\"scalars\")\n\ngradients = gradients_to_dict(mesh_g[\"gradient\"])\ngradients"
      ]
    },
    {
      "cell_type": "code",
      "execution_count": null,
      "metadata": {
        "collapsed": false
      },
      "outputs": [],
      "source": [
        "mesh_g.point_arrays.update(gradients)\n\nkeys = np.array(list(gradients.keys())).reshape(1,3)\n\np = pv.Plotter(shape=keys.shape)\n\nfor i in range(keys.shape[0]):\n    for j in range(keys.shape[1]):\n        name = keys[i,j]\n        p.subplot(i,j)\n        p.add_mesh(mesh_g.contour(scalars=name), scalars=name, opacity=0.75)\n        p.add_mesh(mesh_g.outline(), color=\"k\")\np.link_views()\np.view_isometric()\np.show()"
      ]
    }
  ],
  "metadata": {
    "kernelspec": {
      "display_name": "Python 3",
      "language": "python",
      "name": "python3"
    },
    "language_info": {
      "codemirror_mode": {
        "name": "ipython",
        "version": 3
      },
      "file_extension": ".py",
      "mimetype": "text/x-python",
      "name": "python",
      "nbconvert_exporter": "python",
      "pygments_lexer": "ipython3",
      "version": "3.6.9"
    }
  },
  "nbformat": 4,
  "nbformat_minor": 0
}