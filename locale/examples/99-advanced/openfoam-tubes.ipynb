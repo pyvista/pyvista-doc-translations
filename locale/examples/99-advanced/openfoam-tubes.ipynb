{
  "cells": [
    {
      "cell_type": "code",
      "execution_count": null,
      "metadata": {
        "collapsed": false
      },
      "outputs": [],
      "source": [
        "%matplotlib inline\nfrom pyvista import set_plot_theme\nset_plot_theme('document')"
      ]
    },
    {
      "cell_type": "markdown",
      "metadata": {},
      "source": [
        "Plot CFD Data {#openfoam_tubes_example}\n=============\n\nPlot a CFD example from OpenFoam hosted on the public SimScale examples\nat [SimScale Project Library](https://www.simscale.com/projects/).\n\nThis example dataset was read using the\n`pyvista.POpenFOAMReader`{.interpreted-text role=\"class\"}. See\n`openfoam_example`{.interpreted-text role=\"ref\"} for a full example\nusing this reader.\n"
      ]
    },
    {
      "cell_type": "code",
      "execution_count": null,
      "metadata": {
        "collapsed": false
      },
      "outputs": [],
      "source": [
        "import numpy as np\n\nimport pyvista as pv\nfrom pyvista import examples"
      ]
    },
    {
      "cell_type": "markdown",
      "metadata": {},
      "source": [
        "Download and load the example dataset.\n"
      ]
    },
    {
      "cell_type": "code",
      "execution_count": null,
      "metadata": {
        "collapsed": false
      },
      "outputs": [],
      "source": [
        "mesh = examples.download_openfoam_tubes()\nmesh"
      ]
    },
    {
      "cell_type": "markdown",
      "metadata": {},
      "source": [
        "Plot Cross Section\n==================\n\nPlot the outline of the dataset along with a cross section of the flow\nvelocity.\n"
      ]
    },
    {
      "cell_type": "code",
      "execution_count": null,
      "metadata": {
        "collapsed": false
      },
      "outputs": [],
      "source": [
        "# generate a slice in the XZ plane\ny_slice = mesh.slice('y')\n\npl = pv.Plotter()\npl.add_mesh(y_slice, scalars='U', lighting=False, scalar_bar_args={'title': 'Flow Velocity'})\npl.add_mesh(mesh, color='w', opacity=0.25)\npl.enable_anti_aliasing()\npl.show()"
      ]
    },
    {
      "cell_type": "markdown",
      "metadata": {},
      "source": [
        "Plot Steamlines - Flow Velocity\n===============================\n\nGenerate streamlines using\n`streamlines() <pyvista.DataSetFilters.streamlines>`{.interpreted-text\nrole=\"func\"}.\n"
      ]
    },
    {
      "cell_type": "code",
      "execution_count": null,
      "metadata": {
        "collapsed": false
      },
      "outputs": [],
      "source": [
        "lines, src = mesh.streamlines(\n    vectors='U',\n    source_center=(0, 0, 0),\n    source_radius=0.025,\n    return_source=True,\n    max_time=0.5,\n    integration_direction='backward',\n    n_points=40,\n)\n\npl = pv.Plotter()\npl.add_mesh(\n    lines,\n    render_lines_as_tubes=True,\n    line_width=3,\n    lighting=False,\n    scalar_bar_args={'title': 'Flow Velocity'},\n    scalars='U',\n    rng=(0, 212),\n)\npl.add_mesh(mesh, color='w', opacity=0.25)\npl.enable_anti_aliasing()\npl.camera_position = 'xz'\npl.show()"
      ]
    },
    {
      "cell_type": "markdown",
      "metadata": {},
      "source": [
        "Volumetric Plot - Visualize Turbulent Kinematic Viscosity\n=========================================================\n\nThe turbulent kinematic viscosity of a fluid is a derived quantity used\nin turbulence modeling to describe the effect of turbulent motion on the\nmomentum transport within the fluid.\n\nFor this example, we will first interpolate the results from the\n`pyvista.UnstructuredGrid`{.interpreted-text role=\"class\"} onto a\n`pyvista.UniformGrid`{.interpreted-text role=\"class\"} using\n`interpolate() <pyvista.DataSetFilters.interpolate>`{.interpreted-text\nrole=\"func\"}. This is so we can visualize it using\n`add_volume() <pyvista.Plotter.add_volume>`{.interpreted-text\nrole=\"func\"}\n"
      ]
    },
    {
      "cell_type": "code",
      "execution_count": null,
      "metadata": {
        "collapsed": false
      },
      "outputs": [],
      "source": [
        "bounds = np.array(mesh.bounds) * 1.2\norigin = (bounds[0], bounds[2], bounds[4])\nspacing = (0.003, 0.003, 0.003)\ndimensions = (\n    int((bounds[1] - bounds[0]) // spacing[0] + 2),\n    int((bounds[3] - bounds[2]) // spacing[1] + 2),\n    int((bounds[5] - bounds[4]) // spacing[2] + 2),\n)\ngrid = pv.UniformGrid(dimensions=dimensions, spacing=spacing, origin=origin)\ngrid = grid.interpolate(mesh, radius=0.005)\n\npl = pv.Plotter()\nvol = pl.add_volume(\n    grid,\n    scalars='nut',\n    opacity='linear',\n    scalar_bar_args={'title': 'Turbulent Kinematic Viscosity'},\n)\nvol.prop.interpolation_type = 'linear'\npl.add_mesh(mesh, color='w', opacity=0.1)\npl.camera_position = 'xz'\npl.show()"
      ]
    }
  ],
  "metadata": {
    "kernelspec": {
      "display_name": "Python 3",
      "language": "python",
      "name": "python3"
    },
    "language_info": {
      "codemirror_mode": {
        "name": "ipython",
        "version": 3
      },
      "file_extension": ".py",
      "mimetype": "text/x-python",
      "name": "python",
      "nbconvert_exporter": "python",
      "pygments_lexer": "ipython3",
      "version": "3.9.16"
    }
  },
  "nbformat": 4,
  "nbformat_minor": 0
}