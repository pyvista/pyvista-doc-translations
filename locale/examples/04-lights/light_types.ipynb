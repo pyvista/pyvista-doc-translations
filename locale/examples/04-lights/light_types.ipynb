{
  "cells": [
    {
      "cell_type": "code",
      "execution_count": null,
      "metadata": {
        "collapsed": false
      },
      "outputs": [],
      "source": [
        "%matplotlib inline\nfrom pyvista import set_plot_theme\nset_plot_theme('document')"
      ]
    },
    {
      "cell_type": "markdown",
      "metadata": {},
      "source": [
        "\n# Light Types\n\nLights come in three types:\n\n  * headlights, the axis of which always coincides with the view of the camera,\n  * camera lights, which move together with the camera, but which can occupy\n    any fixed relative position with respect to the camera,\n  * scene lights, the position of which is fixed to the scene, and which is thus\n    unaffected by moving the camera. This is the default type.\n\n## Headlight\n\nFor headlights the :py:attr:`position` and :py:attr:`focal_point` properties\nare meaningless. No matter where you move the camera, the light always emanates\nfrom the view point:\n\n"
      ]
    },
    {
      "cell_type": "code",
      "execution_count": null,
      "metadata": {
        "collapsed": false
      },
      "outputs": [],
      "source": [
        "# sphinx_gallery_thumbnail_number = 2\nimport pyvista as pv\nfrom pyvista import examples\nmesh = examples.download_bunny()\nmesh.rotate_x(90)\nmesh.rotate_z(180)\n\nplotter = pv.Plotter(lighting='none')\nplotter.add_mesh(mesh, color='tan', smooth_shading=True)\nlight = pv.Light(light_type='headlight')\n# these don't do anything for a headlight:\nlight.position = (1, 2, 3)\nlight.focal_point = (4, 5, 6)\nplotter.add_light(light)\nplotter.show()"
      ]
    },
    {
      "cell_type": "markdown",
      "metadata": {},
      "source": [
        "## Camera light\n\nCamera lights define their :py:attr:`position` and :py:attr:`focal_point`\nproperties in a coordinate system that is local to the camera. The coordinates\nin the scene's coordinate system can be accessed through the :py:attr:`world_position`\nand :py:attr:`world_focal_point` read-only properties, respectively. For specifics\nof the local coordinate system used for the coordinates please see the documentation\nof :func:`pyvista.Light.set_camera_light`.\n\n"
      ]
    },
    {
      "cell_type": "code",
      "execution_count": null,
      "metadata": {
        "collapsed": false
      },
      "outputs": [],
      "source": [
        "plotter = pv.Plotter(lighting='none')\nplotter.add_mesh(mesh, color='tan', smooth_shading=True)\n# a light that always shines from the right of the camera\nlight = pv.Light(position=(1, 0, 0), light_type='camera light')\nplotter.add_light(light)\nplotter.show()"
      ]
    },
    {
      "cell_type": "markdown",
      "metadata": {},
      "source": [
        "## Scene light\n\nScene lights are attached to the scene, their position and focal point are\ninterpreted as global coordinates:\n\n"
      ]
    },
    {
      "cell_type": "code",
      "execution_count": null,
      "metadata": {
        "collapsed": false
      },
      "outputs": [],
      "source": [
        "plotter = pv.Plotter(lighting='none')\nplotter.add_mesh(mesh, color='tan', smooth_shading=True)\n# a light that always shines on the left side of the bunny\nlight = pv.Light(position=(0, 1, 0), light_type='scene light')\nplotter.add_light(light)\nplotter.show()"
      ]
    }
  ],
  "metadata": {
    "kernelspec": {
      "display_name": "Python 3",
      "language": "python",
      "name": "python3"
    },
    "language_info": {
      "codemirror_mode": {
        "name": "ipython",
        "version": 3
      },
      "file_extension": ".py",
      "mimetype": "text/x-python",
      "name": "python",
      "nbconvert_exporter": "python",
      "pygments_lexer": "ipython3",
      "version": "3.6.9"
    }
  },
  "nbformat": 4,
  "nbformat_minor": 0
}