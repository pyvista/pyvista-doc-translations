{
  "cells": [
    {
      "cell_type": "code",
      "execution_count": null,
      "metadata": {
        "collapsed": false
      },
      "outputs": [],
      "source": [
        "%matplotlib inline\nfrom pyvista import set_plot_theme\nset_plot_theme('document')"
      ]
    },
    {
      "cell_type": "markdown",
      "metadata": {},
      "source": [
        "\n# Plotter Lighting Systems\n\nThe :class:`pyvista.Plotter` class comes with three options for the default\nlighting system:\n\n  * a light kit consisting of a headlight and four camera lights,\n  * an illumination system containing three lights arranged around the camera,\n  * no lighting.\n\nWith meshes that don't have depth information encoded in their color the\nimportance of an appropriate lighting setup becomes paramount for accurate\nvisualization.\n\n## Light kit\n\nThe default ``lighting='light kit'`` option recreates a lighting setup that\ncorresponds to a ``vtk.vtkLightKit``. We can check what type of lights this\nlighting comprises:\n"
      ]
    },
    {
      "cell_type": "code",
      "execution_count": null,
      "metadata": {
        "collapsed": false
      },
      "outputs": [],
      "source": [
        "# sphinx_gallery_thumbnail_number = 3\nimport pyvista as pv\nfrom pyvista import examples\n\n# default: light kit\nplotter = pv.Plotter()\nlight_types = [light.light_type for light in plotter.renderer.lights]\n\n# Remove from plotters so output is not produced in docs\npv.plotting._ALL_PLOTTERS.clear()\n\nlight_types"
      ]
    },
    {
      "cell_type": "markdown",
      "metadata": {},
      "source": [
        "Add a white terrain to the scene:\n\n"
      ]
    },
    {
      "cell_type": "code",
      "execution_count": null,
      "metadata": {
        "collapsed": false
      },
      "outputs": [],
      "source": [
        "mesh = examples.download_st_helens().warp_by_scalar()\nplotter = pv.Plotter()\nplotter.add_mesh(mesh, color='white')\nplotter.show()"
      ]
    },
    {
      "cell_type": "markdown",
      "metadata": {},
      "source": [
        "## Three-lights illumination\n\nSwitching to three-lights illumination gives a different character to the\nfigure, in this case showing less contrast when viewing the mountain from\nthe top, but having more contrast with views closer to the side. This becomes\nespecially clear when exploring the figures interactively.\n\n"
      ]
    },
    {
      "cell_type": "code",
      "execution_count": null,
      "metadata": {
        "collapsed": false
      },
      "outputs": [],
      "source": [
        "plotter = pv.Plotter(lighting='three lights')\nplotter.add_mesh(mesh, color='white')\nplotter.show()"
      ]
    },
    {
      "cell_type": "markdown",
      "metadata": {},
      "source": [
        "Again we can check what kind of lights this setting uses:\n\n"
      ]
    },
    {
      "cell_type": "code",
      "execution_count": null,
      "metadata": {
        "collapsed": false
      },
      "outputs": [],
      "source": [
        "plotter = pv.Plotter(lighting='three lights')\nlight_types = [light.light_type for light in plotter.renderer.lights]\n\n# Remove from plotters so output is not produced in docs\npv.plotting._ALL_PLOTTERS.clear()\n\nlight_types"
      ]
    },
    {
      "cell_type": "markdown",
      "metadata": {},
      "source": [
        "## Custom lighting\n\nWe can introduce our own lighting from scratch by disabling any\nlighting on plotter initialization. Adding a single scene light to a\nscene will often result in ominous visuals due to objects having\nlarger regions in shadow.\n\n"
      ]
    },
    {
      "cell_type": "code",
      "execution_count": null,
      "metadata": {
        "collapsed": false
      },
      "outputs": [],
      "source": [
        "plotter = pv.Plotter(lighting='none', window_size=(1000, 1000))\nplotter.add_mesh(mesh, color='white', smooth_shading=True)\nlight = pv.Light()\nlight.set_direction_angle(30, -20)\nplotter.add_light(light)\nplotter.show()"
      ]
    },
    {
      "cell_type": "markdown",
      "metadata": {},
      "source": [
        "## Custom lighting with shadows\n\nHere, we ``enable_shadows`` to enhance the effect that the lighting\nangle has.  It has a subtle, but realistic effect.  Notice the sharp\nshadows due to the mountaintop.\n\n"
      ]
    },
    {
      "cell_type": "code",
      "execution_count": null,
      "metadata": {
        "collapsed": false
      },
      "outputs": [],
      "source": [
        "plotter = pv.Plotter(lighting='none', window_size=(1000, 1000))\nplotter.add_mesh(mesh, color='white', smooth_shading=True)\nlight = pv.Light()\nlight.set_direction_angle(20, -20)\nplotter.add_light(light)\nplotter.enable_shadows()\nplotter.show()"
      ]
    }
  ],
  "metadata": {
    "kernelspec": {
      "display_name": "Python 3",
      "language": "python",
      "name": "python3"
    },
    "language_info": {
      "codemirror_mode": {
        "name": "ipython",
        "version": 3
      },
      "file_extension": ".py",
      "mimetype": "text/x-python",
      "name": "python",
      "nbconvert_exporter": "python",
      "pygments_lexer": "ipython3",
      "version": "3.7.10"
    }
  },
  "nbformat": 4,
  "nbformat_minor": 0
}