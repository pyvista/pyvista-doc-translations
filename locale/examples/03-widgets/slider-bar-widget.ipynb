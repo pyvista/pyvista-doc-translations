{
  "cells": [
    {
      "cell_type": "code",
      "execution_count": null,
      "metadata": {
        "collapsed": false
      },
      "outputs": [],
      "source": [
        "%matplotlib inline\nfrom pyvista import set_plot_theme\nset_plot_theme('document')"
      ]
    },
    {
      "cell_type": "markdown",
      "metadata": {},
      "source": [
        "\n# Slider Bar Widget\n\nThe slider widget can be enabled and disabled by the\n:func:`pyvista.WidgetHelper.add_slider_widget` and\n:func:`pyvista.WidgetHelper.clear_slider_widgets` methods respectively.\nThis is one of the most versatile widgets as it can control a value that can\nbe used for just about anything.\n\n"
      ]
    },
    {
      "cell_type": "code",
      "execution_count": null,
      "metadata": {
        "collapsed": false
      },
      "outputs": [],
      "source": [
        "# sphinx_gallery_thumbnail_number = 1"
      ]
    },
    {
      "cell_type": "markdown",
      "metadata": {},
      "source": [
        "One helper method we've added is the\n:func:`pyvista.WidgetHelper.add_mesh_threshold` method which leverages the\nslider widget to control a thresholding value.\n\n"
      ]
    },
    {
      "cell_type": "code",
      "execution_count": null,
      "metadata": {
        "collapsed": false
      },
      "outputs": [],
      "source": [
        "import pyvista as pv\nfrom pyvista import examples\n\nmesh = examples.download_knee_full()\n\np = pv.Plotter()\np.add_mesh_threshold(mesh)\np.show()"
      ]
    },
    {
      "cell_type": "markdown",
      "metadata": {},
      "source": [
        "After interacting with the scene, the threshold mesh is available as:\n\n"
      ]
    },
    {
      "cell_type": "code",
      "execution_count": null,
      "metadata": {
        "collapsed": false
      },
      "outputs": [],
      "source": [
        "p.threshold_meshes"
      ]
    },
    {
      "cell_type": "markdown",
      "metadata": {},
      "source": [
        "And here is a screen capture of a user interacting with this\n\n<img src=\"file://../../images/gifs/slider-widget-threshold.gif\">\n\n"
      ]
    },
    {
      "cell_type": "markdown",
      "metadata": {},
      "source": [
        "## Custom Callback\n\nOr you could leverage a custom callback function that takes a single value\nfrom the slider as its argument to do something like control the resolution\nof a mesh. Again note the use of the ``name`` argument in ``add_mesh``:\n\n"
      ]
    },
    {
      "cell_type": "code",
      "execution_count": null,
      "metadata": {
        "collapsed": false
      },
      "outputs": [],
      "source": [
        "p = pv.Plotter()\n\ndef create_mesh(value):\n    res = int(value)\n    sphere = pv.Sphere(phi_resolution=res, theta_resolution=res)\n    p.add_mesh(sphere, name='sphere', show_edges=True)\n    return\n\np.add_slider_widget(create_mesh, [5, 100], title='Resolution')\np.show()"
      ]
    },
    {
      "cell_type": "markdown",
      "metadata": {},
      "source": [
        "And here is a screen capture of a user interacting with this\n\n<img src=\"file://../../images/gifs/slider-widget-resolution.gif\">\n\n"
      ]
    }
  ],
  "metadata": {
    "kernelspec": {
      "display_name": "Python 3",
      "language": "python",
      "name": "python3"
    },
    "language_info": {
      "codemirror_mode": {
        "name": "ipython",
        "version": 3
      },
      "file_extension": ".py",
      "mimetype": "text/x-python",
      "name": "python",
      "nbconvert_exporter": "python",
      "pygments_lexer": "ipython3",
      "version": "3.6.9"
    }
  },
  "nbformat": 4,
  "nbformat_minor": 0
}