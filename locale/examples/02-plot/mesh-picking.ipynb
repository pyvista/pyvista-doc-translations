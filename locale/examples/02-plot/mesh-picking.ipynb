{
  "cells": [
    {
      "cell_type": "code",
      "execution_count": null,
      "metadata": {
        "collapsed": false
      },
      "outputs": [],
      "source": [
        "%matplotlib inline\nfrom pyvista import set_plot_theme\nset_plot_theme('document')"
      ]
    },
    {
      "cell_type": "markdown",
      "metadata": {},
      "source": [
        "Picking Meshes {#mesh_picking_example}\n==============\n\nThis example demonstrates how to pick meshes using\n`enable_mesh_picking() <pyvista.Plotter.enable_mesh_picking>`{.interpreted-text\nrole=\"func\"}.\n"
      ]
    },
    {
      "cell_type": "code",
      "execution_count": null,
      "metadata": {
        "collapsed": false
      },
      "outputs": [],
      "source": [
        "import pyvista as pv"
      ]
    },
    {
      "cell_type": "markdown",
      "metadata": {},
      "source": [
        "Pick either a cube or a sphere using \\\"p\\\"\n==========================================\n"
      ]
    },
    {
      "cell_type": "code",
      "execution_count": null,
      "metadata": {
        "collapsed": false
      },
      "outputs": [],
      "source": [
        "sphere = pv.Sphere(center=(1, 0, 0))\ncube = pv.Cube()\n\npl = pv.Plotter()\npl.add_mesh(sphere, color='r')\npl.add_mesh(cube, color='b')\npl.enable_mesh_picking()\npl.show()"
      ]
    },
    {
      "cell_type": "markdown",
      "metadata": {},
      "source": [
        "Pick using the left-mouse button\n================================\n\nPick using the left mouse button and trigger a callback that \\\"shrinks\\\"\nthe mesh each time it\\'s selected.\n"
      ]
    },
    {
      "cell_type": "code",
      "execution_count": null,
      "metadata": {
        "collapsed": false
      },
      "outputs": [],
      "source": [
        "def callback(mesh):\n    \"\"\"Shrink the mesh each time it's clicked.\"\"\"\n    shrunk = mesh.shrink(0.9)\n    mesh.overwrite(shrunk)  # must operate \"in-place\" by overwrite\n\n\npl = pv.Plotter()\npl.add_mesh(sphere, color='r')\npl.add_mesh(cube, color='b')\npl.enable_mesh_picking(callback=callback, left_clicking=True, show=False)\npl.show()"
      ]
    }
  ],
  "metadata": {
    "kernelspec": {
      "display_name": "Python 3",
      "language": "python",
      "name": "python3"
    },
    "language_info": {
      "codemirror_mode": {
        "name": "ipython",
        "version": 3
      },
      "file_extension": ".py",
      "mimetype": "text/x-python",
      "name": "python",
      "nbconvert_exporter": "python",
      "pygments_lexer": "ipython3",
      "version": "3.8.12"
    }
  },
  "nbformat": 4,
  "nbformat_minor": 0
}